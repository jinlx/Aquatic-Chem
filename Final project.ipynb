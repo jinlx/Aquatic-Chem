{
 "cells": [
  {
   "cell_type": "code",
   "execution_count": 1,
   "metadata": {},
   "outputs": [
    {
     "data": {
      "text/plain": [
       "'C:\\\\Users\\\\jinlx\\\\DataAnalysis\\\\aquatic_chem'"
      ]
     },
     "execution_count": 1,
     "metadata": {},
     "output_type": "execute_result"
    }
   ],
   "source": [
    "import os\n",
    "import sympy as sp\n",
    "path=os.path.abspath('.') \n",
    "path"
   ]
  },
  {
   "cell_type": "markdown",
   "metadata": {},
   "source": [
    "### Training a model to do the prediction"
   ]
  },
  {
   "cell_type": "markdown",
   "metadata": {},
   "source": [
    "#### Read dateset\n"
   ]
  },
  {
   "cell_type": "code",
   "execution_count": 2,
   "metadata": {},
   "outputs": [],
   "source": [
    "\n",
    "import pandas as pd\n",
    "data = pd.read_csv('data\\data.csv')\n",
    "X = data.year\n",
    "y = data['mean']\n",
    "\n",
    "# fix the unexpected data dimension issue\n",
    "X = pd.DataFrame(X)\n",
    "y = pd.DataFrame(y)\n"
   ]
  },
  {
   "cell_type": "markdown",
   "metadata": {},
   "source": [
    "#### Polynomial regressions"
   ]
  },
  {
   "cell_type": "code",
   "execution_count": 3,
   "metadata": {},
   "outputs": [],
   "source": [
    "# split data\n",
    "from sklearn.model_selection import train_test_split\n",
    "X_train, X_test, y_train, y_test = train_test_split(X,y)"
   ]
  },
  {
   "cell_type": "code",
   "execution_count": 4,
   "metadata": {},
   "outputs": [],
   "source": [
    "from sklearn.preprocessing import PolynomialFeatures\n",
    "from sklearn.linear_model import LinearRegression\n",
    "from sklearn.pipeline import Pipeline"
   ]
  },
  {
   "cell_type": "code",
   "execution_count": 5,
   "metadata": {
    "scrolled": true
   },
   "outputs": [
    {
     "data": {
      "text/plain": [
       "Pipeline(steps=[('poly_features', PolynomialFeatures(include_bias=False)),\n",
       "                ('reg', LinearRegression())])"
      ]
     },
     "execution_count": 5,
     "metadata": {},
     "output_type": "execute_result"
    }
   ],
   "source": [
    "pipe = Pipeline(steps = [\n",
    "    ('poly_features',PolynomialFeatures(degree=2,include_bias=False)),\n",
    "    ('reg', LinearRegression())\n",
    "])\n",
    "\n",
    "pipe.fit(X_train,y_train)"
   ]
  },
  {
   "cell_type": "code",
   "execution_count": 6,
   "metadata": {},
   "outputs": [
    {
     "data": {
      "text/plain": [
       "['mean', 'mean^2']"
      ]
     },
     "execution_count": 6,
     "metadata": {},
     "output_type": "execute_result"
    }
   ],
   "source": [
    "# feature names\n",
    "feature_names = pipe['poly_features'].get_feature_names(['mean'])\n",
    "feature_names"
   ]
  },
  {
   "cell_type": "code",
   "execution_count": 7,
   "metadata": {},
   "outputs": [
    {
     "name": "stdout",
     "output_type": "stream",
     "text": [
      "['mean', 'mean^2']\n",
      "[[-4.87870791e+01  1.26606580e-02]]\n"
     ]
    }
   ],
   "source": [
    "# model coefficients\n",
    "coefficients = pipe['reg'].coef_\n",
    "print(feature_names)\n",
    "print(coefficients)"
   ]
  },
  {
   "cell_type": "code",
   "execution_count": 8,
   "metadata": {},
   "outputs": [
    {
     "data": {
      "text/plain": [
       "array([47301.7974484])"
      ]
     },
     "execution_count": 8,
     "metadata": {},
     "output_type": "execute_result"
    }
   ],
   "source": [
    "# model intercept\n",
    "pipe['reg'].intercept_"
   ]
  },
  {
   "cell_type": "code",
   "execution_count": 9,
   "metadata": {},
   "outputs": [],
   "source": [
    "y_test_pred = pipe.predict(X_test)"
   ]
  },
  {
   "cell_type": "code",
   "execution_count": 10,
   "metadata": {},
   "outputs": [
    {
     "data": {
      "text/plain": [
       "Text(0, 0.5, 'predicted')"
      ]
     },
     "execution_count": 10,
     "metadata": {},
     "output_type": "execute_result"
    },
    {
     "data": {
      "image/png": "[encoded data removed]",
      "text/plain": [
       "<Figure size 432x288 with 1 Axes>"
      ]
     },
     "metadata": {
      "needs_background": "light"
     },
     "output_type": "display_data"
    }
   ],
   "source": [
    "# visualize the prediction, evaluate the model performance\n",
    "import matplotlib.pyplot as plt\n",
    "plt.plot(y_test,y_test_pred,'o')\n",
    "plt.xlabel('observed')\n",
    "plt.ylabel('predicted')"
   ]
  },
  {
   "cell_type": "code",
   "execution_count": 11,
   "metadata": {},
   "outputs": [
    {
     "data": {
      "text/plain": [
       "0.6637767171306825"
      ]
     },
     "execution_count": 11,
     "metadata": {},
     "output_type": "execute_result"
    }
   ],
   "source": [
    "# model evaluation\n",
    "from sklearn.metrics import mean_squared_error, r2_score\n",
    "mean_squared_error(y_test,y_test_pred)\n"
   ]
  },
  {
   "cell_type": "code",
   "execution_count": 12,
   "metadata": {},
   "outputs": [
    {
     "data": {
      "text/plain": [
       "0.9992780217164984"
      ]
     },
     "execution_count": 12,
     "metadata": {},
     "output_type": "execute_result"
    }
   ],
   "source": [
    "r2_score(y_test,y_test_pred)"
   ]
  },
  {
   "cell_type": "markdown",
   "metadata": {},
   "source": [
    "#### Take advantages of the model to predict future co2"
   ]
  },
  {
   "cell_type": "code",
   "execution_count": 13,
   "metadata": {},
   "outputs": [],
   "source": [
    "import numpy as np\n",
    "data_year =np.arange(1959,2201,1)\n",
    "data_year = pd.DataFrame(data_year)\n",
    "#data_year = data_year.rename(columns)\n",
    "data_co2 = pipe.predict(data_year)\n",
    "data_co2\n",
    "\n",
    "data_year = data_year.to_numpy()\n"
   ]
  },
  {
   "cell_type": "markdown",
   "metadata": {},
   "source": [
    "## Pco2 vs time"
   ]
  },
  {
   "cell_type": "code",
   "execution_count": 14,
   "metadata": {
    "scrolled": true
   },
   "outputs": [
    {
     "data": {
      "text/plain": [
       "(array([ 200.,  400.,  600.,  800., 1000., 1200., 1400.]),\n",
       " [Text(0, 0, ''),\n",
       "  Text(0, 0, ''),\n",
       "  Text(0, 0, ''),\n",
       "  Text(0, 0, ''),\n",
       "  Text(0, 0, ''),\n",
       "  Text(0, 0, ''),\n",
       "  Text(0, 0, '')])"
      ]
     },
     "execution_count": 14,
     "metadata": {},
     "output_type": "execute_result"
    },
    {
     "data": {
      "image/png": "[encoded data removed]",
      "text/plain": [
       "<Figure size 720x360 with 1 Axes>"
      ]
     },
     "metadata": {
      "needs_background": "light"
     },
     "output_type": "display_data"
    }
   ],
   "source": [
    "# plotting part\n",
    "plt.figure(figsize=(10,5))\n",
    "plt.plot(data_year,data_co2)\n",
    "plt.xlabel('year',size=15)\n",
    "plt.ylabel('Pco2[ppm]',size=15)\n",
    "plt.xticks(fontsize=15)\n",
    "plt.yticks(fontsize=15)"
   ]
  },
  {
   "cell_type": "markdown",
   "metadata": {},
   "source": [
    "## PH vs time"
   ]
  },
  {
   "cell_type": "code",
   "execution_count": 15,
   "metadata": {},
   "outputs": [],
   "source": [
    "## given Pco2 and Ct, calculate PH\n",
    "#Pco2 = data_co2*1e-6 #atm\n",
    "#Ct = 2e-3 # 3mM\n",
    "\n",
    "#KH = 10**(-1.5) # mol/L-atm\n",
    "#Kw = 1e-14\n",
    "#Ka1 = 10**(-6.3)\n",
    "#Ka2 = 10**(-10.3)\n",
    "\n",
    "#alpha0 = Pco2*KH/Ct"
   ]
  },
  {
   "cell_type": "code",
   "execution_count": 16,
   "metadata": {},
   "outputs": [],
   "source": [
    "#def solve_equations(alpha0):\n",
    "#    H_conc = sp.Symbol('H_conc')\n",
    "#    eq = (H_conc**2)/(H_conc**2+Ka1*H_conc+Ka1*Ka2) - alpha0\n",
    "#    H_conc_solution=list(sp.solveset(eq))\n",
    "#   H_conc_final = H_conc_solution[-1]\n",
    "#    PH = -np.log10(float(H_conc_final))\n",
    "#    return(PH)\n"
   ]
  },
  {
   "cell_type": "code",
   "execution_count": null,
   "metadata": {},
   "outputs": [],
   "source": []
  },
  {
   "cell_type": "code",
   "execution_count": null,
   "metadata": {},
   "outputs": [],
   "source": []
  },
  {
   "cell_type": "code",
   "execution_count": 17,
   "metadata": {},
   "outputs": [],
   "source": [
    "# given Pco2 and Alk, calculate PH\n",
    "Pco2 = data_co2*1e-6 #atm\n",
    "Alk = 2.2e-3 # 2mM\n",
    "Alk = 2.25e-3 # 2mM\n",
    "\n",
    "KH = 10**(-1.5) # mol/L-atm\n",
    "Kw = 1e-14\n",
    "Ka1 = 10**(-6.3)\n",
    "Ka2 = 10**(-10.3)"
   ]
  },
  {
   "cell_type": "code",
   "execution_count": 18,
   "metadata": {},
   "outputs": [],
   "source": [
    "def solve_equations(Pco2):\n",
    "    H_conc = sp.Symbol('H_conc')\n",
    "    eq = Ka1/H_conc*KH*Pco2- Alk\n",
    "    H_conc_solution=list(sp.solveset(eq))\n",
    "    # get the final result\n",
    "    H_conc_final = (H_conc_solution[-1])\n",
    "    PH = -np.log10(float(H_conc_final))\n",
    "    return(PH)"
   ]
  },
  {
   "cell_type": "code",
   "execution_count": null,
   "metadata": {},
   "outputs": [],
   "source": []
  },
  {
   "cell_type": "code",
   "execution_count": null,
   "metadata": {},
   "outputs": [],
   "source": []
  },
  {
   "cell_type": "code",
   "execution_count": 19,
   "metadata": {},
   "outputs": [
    {
     "data": {
      "text/html": [
       "<div>\n",
       "<style scoped>\n",
       "    .dataframe tbody tr th:only-of-type {\n",
       "        vertical-align: middle;\n",
       "    }\n",
       "\n",
       "    .dataframe tbody tr th {\n",
       "        vertical-align: top;\n",
       "    }\n",
       "\n",
       "    .dataframe thead th {\n",
       "        text-align: right;\n",
       "    }\n",
       "</style>\n",
       "<table border=\"1\" class=\"dataframe\">\n",
       "  <thead>\n",
       "    <tr style=\"text-align: right;\">\n",
       "      <th></th>\n",
       "      <th>Pco2</th>\n",
       "      <th>PH</th>\n",
       "      <th>year</th>\n",
       "    </tr>\n",
       "  </thead>\n",
       "  <tbody>\n",
       "    <tr>\n",
       "      <th>0</th>\n",
       "      <td>315.476052</td>\n",
       "      <td>8.653216</td>\n",
       "      <td>1959</td>\n",
       "    </tr>\n",
       "    <tr>\n",
       "      <th>1</th>\n",
       "      <td>316.306092</td>\n",
       "      <td>8.652075</td>\n",
       "      <td>1960</td>\n",
       "    </tr>\n",
       "    <tr>\n",
       "      <th>2</th>\n",
       "      <td>317.161453</td>\n",
       "      <td>8.650902</td>\n",
       "      <td>1961</td>\n",
       "    </tr>\n",
       "    <tr>\n",
       "      <th>3</th>\n",
       "      <td>318.042135</td>\n",
       "      <td>8.649698</td>\n",
       "      <td>1962</td>\n",
       "    </tr>\n",
       "    <tr>\n",
       "      <th>4</th>\n",
       "      <td>318.948138</td>\n",
       "      <td>8.648462</td>\n",
       "      <td>1963</td>\n",
       "    </tr>\n",
       "    <tr>\n",
       "      <th>...</th>\n",
       "      <td>...</td>\n",
       "      <td>...</td>\n",
       "      <td>...</td>\n",
       "    </tr>\n",
       "    <tr>\n",
       "      <th>56</th>\n",
       "      <td>400.953089</td>\n",
       "      <td>8.549089</td>\n",
       "      <td>2015</td>\n",
       "    </tr>\n",
       "    <tr>\n",
       "      <th>57</th>\n",
       "      <td>403.201122</td>\n",
       "      <td>8.546661</td>\n",
       "      <td>2016</td>\n",
       "    </tr>\n",
       "    <tr>\n",
       "      <th>58</th>\n",
       "      <td>405.474477</td>\n",
       "      <td>8.544219</td>\n",
       "      <td>2017</td>\n",
       "    </tr>\n",
       "    <tr>\n",
       "      <th>59</th>\n",
       "      <td>407.773153</td>\n",
       "      <td>8.541764</td>\n",
       "      <td>2018</td>\n",
       "    </tr>\n",
       "    <tr>\n",
       "      <th>60</th>\n",
       "      <td>410.097150</td>\n",
       "      <td>8.539296</td>\n",
       "      <td>2019</td>\n",
       "    </tr>\n",
       "  </tbody>\n",
       "</table>\n",
       "<p>61 rows × 3 columns</p>\n",
       "</div>"
      ],
      "text/plain": [
       "          Pco2        PH  year\n",
       "0   315.476052  8.653216  1959\n",
       "1   316.306092  8.652075  1960\n",
       "2   317.161453  8.650902  1961\n",
       "3   318.042135  8.649698  1962\n",
       "4   318.948138  8.648462  1963\n",
       "..         ...       ...   ...\n",
       "56  400.953089  8.549089  2015\n",
       "57  403.201122  8.546661  2016\n",
       "58  405.474477  8.544219  2017\n",
       "59  407.773153  8.541764  2018\n",
       "60  410.097150  8.539296  2019\n",
       "\n",
       "[61 rows x 3 columns]"
      ]
     },
     "execution_count": 19,
     "metadata": {},
     "output_type": "execute_result"
    }
   ],
   "source": [
    "# create dataframe to include all alpha0, PCO2, PH information\n",
    "df=pd.DataFrame(data=data_co2,columns = ['Pco2'])\n",
    "df['PH'] = (df['Pco2']*1e-6).apply(solve_equations)\n",
    "df['year'] = data_year\n",
    "df.head(61)"
   ]
  },
  {
   "cell_type": "code",
   "execution_count": 20,
   "metadata": {},
   "outputs": [
    {
     "data": {
      "text/plain": [
       "(array([8. , 8.1, 8.2, 8.3, 8.4, 8.5, 8.6, 8.7]),\n",
       " [Text(0, 0, ''),\n",
       "  Text(0, 0, ''),\n",
       "  Text(0, 0, ''),\n",
       "  Text(0, 0, ''),\n",
       "  Text(0, 0, ''),\n",
       "  Text(0, 0, ''),\n",
       "  Text(0, 0, ''),\n",
       "  Text(0, 0, '')])"
      ]
     },
     "execution_count": 20,
     "metadata": {},
     "output_type": "execute_result"
    },
    {
     "data": {
      "image/png": "[encoded data removed]",
      "text/plain": [
       "<Figure size 720x360 with 1 Axes>"
      ]
     },
     "metadata": {
      "needs_background": "light"
     },
     "output_type": "display_data"
    }
   ],
   "source": [
    "# plot PH vs year\n",
    "plt.figure(figsize=(10,5))\n",
    "plt.plot(df['year'],df['PH'])\n",
    "plt.xlabel('year',size=15)\n",
    "plt.ylabel('PH',size=15)\n",
    "plt.xticks(fontsize=15)\n",
    "plt.yticks(fontsize=15)"
   ]
  },
  {
   "cell_type": "markdown",
   "metadata": {},
   "source": [
    "## H2CO3 speciation"
   ]
  },
  {
   "cell_type": "code",
   "execution_count": 21,
   "metadata": {},
   "outputs": [],
   "source": [
    "# get conc for H2CO3 system\n",
    "H_conc = 10**(-df.PH)\n",
    "OH = Kw/H_conc\n",
    "alpha0 = (H_conc**2)/(H_conc**2+Ka1*H_conc+Ka1*Ka2)\n",
    "alpha1 = (Ka1*H_conc)/(H_conc**2+Ka1*H_conc+Ka1*Ka2)\n",
    "alpha2 = (Ka1*Ka2)/(H_conc**2+Ka1*H_conc+Ka1*Ka2)\n",
    "\n",
    "Ct = Alk/(alpha1+2*alpha2)\n",
    "\n"
   ]
  },
  {
   "cell_type": "code",
   "execution_count": 22,
   "metadata": {},
   "outputs": [],
   "source": [
    "H2X = Ct*alpha0\n",
    "HX = Ct*alpha1\n",
    "X = Ct*alpha2\n",
    "df['H+'] = H_conc\n",
    "df['OH-'] = OH\n",
    "df['H2CO3'] = H2X\n",
    "df['HCO3'] = HX\n",
    "df['CO3'] = X"
   ]
  },
  {
   "cell_type": "code",
   "execution_count": 70,
   "metadata": {},
   "outputs": [
    {
     "data": {
      "text/plain": [
       "60     0.005634\n",
       "61     0.005666\n",
       "62     0.005699\n",
       "63     0.005732\n",
       "64     0.005766\n",
       "         ...   \n",
       "237    0.016766\n",
       "238    0.016859\n",
       "239    0.016952\n",
       "240    0.017045\n",
       "241    0.017139\n",
       "Length: 182, dtype: float64"
      ]
     },
     "execution_count": 70,
     "metadata": {},
     "output_type": "execute_result"
    }
   ],
   "source": [
    "(df['H2CO3']/Ct)[60:]"
   ]
  },
  {
   "cell_type": "code",
   "execution_count": 72,
   "metadata": {},
   "outputs": [
    {
     "data": {
      "text/plain": [
       "60     2019\n",
       "61     2020\n",
       "62     2021\n",
       "63     2022\n",
       "64     2023\n",
       "       ... \n",
       "237    2196\n",
       "238    2197\n",
       "239    2198\n",
       "240    2199\n",
       "241    2200\n",
       "Name: year, Length: 182, dtype: int32"
      ]
     },
     "execution_count": 72,
     "metadata": {},
     "output_type": "execute_result"
    }
   ],
   "source": [
    "df.year[60:]"
   ]
  },
  {
   "cell_type": "code",
   "execution_count": 71,
   "metadata": {},
   "outputs": [
    {
     "data": {
      "image/png": "[encoded data removed]",
      "text/plain": [
       "<Figure size 1080x720 with 1 Axes>"
      ]
     },
     "metadata": {
      "needs_background": "light"
     },
     "output_type": "display_data"
    }
   ],
   "source": [
    "# plotting\n",
    "plt.figure(figsize=(15,10))\n",
    "\n",
    "# x vs y\n",
    "plt.plot(df.year[60:], (df['H2CO3']/Ct)[60:], color='black', label = 'H2CO3')\n",
    "plt.plot(df.year[60:], (df['HCO3']/Ct)[60:], color='red', label = 'HCO3 -')\n",
    "plt.plot(df.year[60:], (df['CO3']/Ct)[60:], color='blue', label = 'CO3 2-')\n",
    "\n",
    "\n",
    "# change for the axis direction\n",
    "#ax = plt.gca()\n",
    "#ax.xaxis.set_ticks_position('top')  \n",
    "#ax.invert_yaxis()  \n",
    "\n",
    "# legend, labels, fontsize, title\n",
    "plt.legend(prop={'size':15})\n",
    "plt.xlabel('year', fontsize=15)\n",
    "plt.ylabel('fraction', fontsize=15)\n",
    "plt.xticks(fontsize=15)\n",
    "plt.yticks(fontsize=15)\n",
    "plt.title('fraction vs year',  fontsize=15)\n",
    "\n",
    "# range of axis\n",
    "#plt.ylim(14, 0)\n",
    "#plt.xlim(0, 14)\n",
    "\n",
    "# if we need to use log scale!!!!!!!\n",
    "#plt.xscale('log')\n",
    "\n",
    "plt.show() "
   ]
  },
  {
   "cell_type": "code",
   "execution_count": 24,
   "metadata": {},
   "outputs": [
    {
     "name": "stdout",
     "output_type": "stream",
     "text": [
      "In the next 180 years, the fraction of H2CO3 would increace by a factor of 3.0\n",
      "In the next 180 years, the fraction of HCO3 - would increace by 2.3 %\n",
      "In the next 180 years, the fraction of CO3 2- would increace by -66.4 %\n",
      "In the next 180 years, the fraction of OH- would increace by -67.1 %\n",
      "In the next 180 years, the PH would decrease from 8.54 to 8.06\n"
     ]
    }
   ],
   "source": [
    "# change fraction\n",
    "diff_frac_H2CO3 = (df.H2CO3.iloc[-1]-df.H2CO3.iloc[60])/df.H2CO3.iloc[60]\n",
    "diff_frac_HCO3 = (df.HCO3.iloc[-1]-df.HCO3.iloc[60])/df.HCO3.iloc[60]\n",
    "diff_frac_CO3 = (df.CO3.iloc[-1]-df.CO3.iloc[60])/df.CO3.iloc[60]\n",
    "diff_frac_OH  = (df['OH-'].iloc[-1] - df['OH-'].iloc[60])/df['OH-'].iloc[60]\n",
    "print('In the next 180 years, the fraction of H2CO3 would increace by a factor of', np.round(diff_frac_H2CO3+1))\n",
    "print('In the next 180 years, the fraction of HCO3 - would increace by', np.round(diff_frac_HCO3*100,1), '%')\n",
    "print('In the next 180 years, the fraction of CO3 2- would increace by', np.round(diff_frac_CO3*100,1), '%')\n",
    "print('In the next 180 years, the fraction of OH- would increace by', np.round(diff_frac_OH*100,1), '%')\n",
    "\n",
    "\n",
    "\n",
    "print('In the next 180 years, the PH would decrease from', round(df.PH.iloc[60],2), 'to',round(df.PH.iloc[-1],2))"
   ]
  },
  {
   "cell_type": "code",
   "execution_count": 25,
   "metadata": {},
   "outputs": [
    {
     "data": {
      "text/plain": [
       "-0.6713459578848368"
      ]
     },
     "execution_count": 25,
     "metadata": {},
     "output_type": "execute_result"
    }
   ],
   "source": [
    "diff_frac_OH"
   ]
  },
  {
   "cell_type": "code",
   "execution_count": 26,
   "metadata": {},
   "outputs": [
    {
     "data": {
      "text/plain": [
       "-0.6637761236827688"
      ]
     },
     "execution_count": 26,
     "metadata": {},
     "output_type": "execute_result"
    }
   ],
   "source": [
    "diff_frac_CO3"
   ]
  },
  {
   "cell_type": "markdown",
   "metadata": {},
   "source": [
    "## Fe speciation(obsolete)"
   ]
  },
  {
   "cell_type": "code",
   "execution_count": 27,
   "metadata": {},
   "outputs": [],
   "source": [
    "Po2 = 0.21 #atm\n",
    "PE = 20.78 - df.PH + 0.25*np.log10(Po2)\n",
    "df['PE'] = PE"
   ]
  },
  {
   "cell_type": "code",
   "execution_count": 28,
   "metadata": {},
   "outputs": [
    {
     "data": {
      "text/plain": [
       "(array([11.9, 12. , 12.1, 12.2, 12.3, 12.4, 12.5, 12.6]),\n",
       " [Text(0, 0, ''),\n",
       "  Text(0, 0, ''),\n",
       "  Text(0, 0, ''),\n",
       "  Text(0, 0, ''),\n",
       "  Text(0, 0, ''),\n",
       "  Text(0, 0, ''),\n",
       "  Text(0, 0, ''),\n",
       "  Text(0, 0, '')])"
      ]
     },
     "execution_count": 28,
     "metadata": {},
     "output_type": "execute_result"
    },
    {
     "data": {
      "image/png": "[encoded data removed]",
      "text/plain": [
       "<Figure size 864x360 with 1 Axes>"
      ]
     },
     "metadata": {
      "needs_background": "light"
     },
     "output_type": "display_data"
    }
   ],
   "source": [
    "# plot PE vs year\n",
    "plt.figure(figsize=(12,5))\n",
    "plt.plot(df['year'],df['PE'])\n",
    "plt.xlabel('year',size=15)\n",
    "plt.ylabel('PE',size=15)\n",
    "plt.xticks(fontsize=15)\n",
    "plt.yticks(fontsize=15)"
   ]
  },
  {
   "cell_type": "code",
   "execution_count": 29,
   "metadata": {},
   "outputs": [],
   "source": [
    "# constant value\n",
    "e = 10**(-PE)\n",
    "K = 1e13\n",
    "# calculate fraction\n",
    "fraction_Fe_two = K*e/(1+K*e)\n",
    "fraction_Fe_three = 1-fraction_Fe_two"
   ]
  },
  {
   "cell_type": "code",
   "execution_count": 30,
   "metadata": {},
   "outputs": [
    {
     "data": {
      "image/png": "[encoded data removed]",
      "text/plain": [
       "<Figure size 1080x720 with 1 Axes>"
      ]
     },
     "metadata": {
      "needs_background": "light"
     },
     "output_type": "display_data"
    }
   ],
   "source": [
    "# plotting for Fe speciation\n",
    "plt.figure(figsize=(15,10))\n",
    "\n",
    "# x vs y\n",
    "plt.plot(df.year, fraction_Fe_two, color='black', label = 'Fe 2+')\n",
    "plt.plot(df.year, fraction_Fe_three, color='red', label = 'Fe 3+')\n",
    "\n",
    "# change for the axis direction\n",
    "#ax = plt.gca()\n",
    "#ax.xaxis.set_ticks_position('top')  \n",
    "#ax.invert_yaxis()  \n",
    "\n",
    "# legend, labels, fontsize, title\n",
    "plt.legend(prop={'size':15})\n",
    "plt.xlabel('year', fontsize=15)\n",
    "plt.ylabel('fraction', fontsize=15)\n",
    "plt.xticks(fontsize=15)\n",
    "plt.yticks(fontsize=15)\n",
    "plt.title('fraction vs year',  fontsize=15)\n",
    "\n",
    "# range of axis\n",
    "#plt.ylim(14, 0)\n",
    "#plt.xlim(0, 14)\n",
    "\n",
    "# if we need to use log scale!!!!!!!\n",
    "#plt.xscale('log')\n",
    "\n",
    "plt.show() "
   ]
  },
  {
   "cell_type": "code",
   "execution_count": 31,
   "metadata": {},
   "outputs": [
    {
     "name": "stdout",
     "output_type": "stream",
     "text": [
      "In the next 180 years, the fraction of Fe 2+ would increace by -17.72 %\n",
      "In the next 180 years, the fraction of Fe 3+ would increace by 150.36 %\n"
     ]
    }
   ],
   "source": [
    "diff_frac_Fe_two = (fraction_Fe_two.iloc[-1]-fraction_Fe_two.iloc[60])/fraction_Fe_two.iloc[60]\n",
    "diff_frac_Fe_thee = (fraction_Fe_three.iloc[-1]-fraction_Fe_three.iloc[60])/fraction_Fe_three.iloc[60]\n",
    "\n",
    "print('In the next 180 years, the fraction of Fe 2+ would increace by', round(diff_frac_Fe_two*100,2), '%')\n",
    "print('In the next 180 years, the fraction of Fe 3+ would increace by', round(diff_frac_Fe_thee*100,2), '%')"
   ]
  },
  {
   "cell_type": "code",
   "execution_count": null,
   "metadata": {},
   "outputs": [],
   "source": []
  },
  {
   "cell_type": "markdown",
   "metadata": {},
   "source": [
    "## Fe(III) complexation speciation, assuming not much Fe(II)"
   ]
  },
  {
   "cell_type": "code",
   "execution_count": 80,
   "metadata": {},
   "outputs": [
    {
     "data": {
      "image/png": "[encoded data removed]",
      "text/plain": [
       "<Figure size 1080x720 with 1 Axes>"
      ]
     },
     "metadata": {
      "needs_background": "light"
     },
     "output_type": "display_data"
    }
   ],
   "source": [
    "K1 = 10**(11.81)\n",
    "K2 = 10**(23.4) \n",
    "K3 = 10**(34.4)\n",
    "\n",
    "f_Fe = 1/(1 + K1*OH + K2*(OH**2) + K3*(OH**4))*100\n",
    "f_FeOH = (K1*OH)/(1 + K1*OH + K2*(OH**2) + K3*(OH**4))*100\n",
    "f_FeOH2 = K2*(OH**2)/(1 + K1*OH + K2*(OH**2) + K3*(OH**4))*100\n",
    "f_FeOH4 = K3*(OH**4)/(1 + K1*OH + K2*(OH**2) + K3*(OH**4))*100\n",
    "\n",
    "# plotting\n",
    "plt.figure(figsize=(15,10))\n",
    "\n",
    "# x vs y\n",
    "plt.plot(df.year[60:], f_Fe[60:], color='black', label = 'Fe 3+')\n",
    "plt.plot(df.year[60:], f_FeOH[60:], color='red', label = 'FeOH 2+ ')\n",
    "plt.plot(df.year[60:], f_FeOH2[60:], color='blue', label = 'Fe(OH)2 + ')\n",
    "plt.plot(df.year[60:], f_FeOH4[60:], color='green', label = 'Fe(OH4) -')\n",
    "\n",
    "\n",
    "# change for the axis direction\n",
    "#ax = plt.gca()\n",
    "#ax.xaxis.set_ticks_position('top')  \n",
    "#ax.invert_yaxis()  \n",
    "\n",
    "# legend, labels, fontsize, title\n",
    "plt.legend(prop={'size':15})\n",
    "plt.xlabel('Year', fontsize=15)\n",
    "plt.ylabel('Fraction(unit:%)', fontsize=15)\n",
    "plt.xticks(fontsize=15)\n",
    "plt.yticks(fontsize=15)\n",
    "plt.title('fraction vs year',  fontsize=15)\n",
    "plt.xlim(2020,2200)\n",
    "\n",
    "# range of axis\n",
    "#plt.ylim(14, 0)\n",
    "#plt.xlim(0, 14)\n",
    "\n",
    "# if we need to use log scale!!!!!!!\n",
    "#plt.xscale('log')\n",
    "\n",
    "plt.show() "
   ]
  },
  {
   "cell_type": "code",
   "execution_count": 33,
   "metadata": {},
   "outputs": [],
   "source": [
    "df['fraction of Fe3+'] = f_Fe\n",
    "df['fraction of FeOH 2+'] = f_FeOH\n",
    "df['fraction of FeOH2 +'] = f_FeOH2\n",
    "df['fraction of FeOH4 -'] = f_FeOH4"
   ]
  },
  {
   "cell_type": "code",
   "execution_count": 82,
   "metadata": {},
   "outputs": [
    {
     "name": "stdout",
     "output_type": "stream",
     "text": [
      "In the next 180 years, the fraction of Fe would increace by a factor of 18.02\n",
      "In the next 180 years, the fraction of FeOH 2+ would increace by 492.24 %\n",
      "In the next 180 years, the fraction of FeOH2 + would increace by 94.64 %\n",
      "In the next 180 years, the fraction of FeOH4 - would increace by -78.98 %\n",
      "In the next 180 years, the PH would decrease from 8.54 to 8.06\n"
     ]
    }
   ],
   "source": [
    "# change fraction\n",
    "diff_frac_Fe = (df['fraction of Fe3+'] .iloc[-1]-df['fraction of Fe3+'].iloc[60])/df['fraction of Fe3+'].iloc[60]\n",
    "diff_frac_FeOH = (df['fraction of FeOH 2+'] .iloc[-1]-df['fraction of FeOH 2+'].iloc[60])/df['fraction of FeOH 2+'].iloc[60]\n",
    "diff_frac_FeOH2 =  (df['fraction of FeOH2 +'] .iloc[-1]-df['fraction of FeOH2 +'].iloc[60])/df['fraction of FeOH2 +'].iloc[60]\n",
    "diff_frac_FeOH4 =  (df['fraction of FeOH4 -'] .iloc[-1]-df['fraction of FeOH4 -'].iloc[60])/df['fraction of FeOH4 -'].iloc[60]\n",
    "\n",
    "\n",
    "\n",
    "print('In the next 180 years, the fraction of Fe would increace by a factor of', np.round(diff_frac_Fe+1,2))\n",
    "print('In the next 180 years, the fraction of FeOH 2+ would increace by', np.round(diff_frac_FeOH*100,2), '%')\n",
    "print('In the next 180 years, the fraction of FeOH2 + would increace by', np.round(diff_frac_FeOH2*100,2), '%')\n",
    "print('In the next 180 years, the fraction of FeOH4 - would increace by', np.round(diff_frac_FeOH4*100,2), '%')\n",
    "\n",
    "print('In the next 180 years, the PH would decrease from', round(df.PH.iloc[60],2), 'to',round(df.PH.iloc[-1],2))"
   ]
  },
  {
   "cell_type": "markdown",
   "metadata": {},
   "source": [
    "## Fe(II) complexation speciation (obsolete)"
   ]
  },
  {
   "cell_type": "code",
   "execution_count": 35,
   "metadata": {},
   "outputs": [],
   "source": [
    "#K1 = 10**(4.6)\n",
    "#K2 = 10**(7.5) \n",
    "#K3 = 10**(13)\n",
    "#K4 = 10**(10)\n",
    "#K5 = 10**(1.1)\n",
    "\n",
    "#f_Fe = 1/(1 + K1*OH + K2*(OH**2) + K3*(OH**3) + K4*(OH**4) + K5*(df['HCO3']))\n",
    "#f_FeOH = (K1*OH)/(1 + K1*OH + K2*(OH**2) + K3*(OH**3) + K4*(OH**4) + K5*(df['HCO3']))\n",
    "#f_FeOH2 = K2*(OH**2)/(1 + K1*OH + K2*(OH**2) + K3*(OH**3) + K4*(OH**4) + K5*(df['HCO3']))\n",
    "#f_FeOH3 = K3*(OH**3)/(1 + K1*OH + K2*(OH**2) + K3*(OH**3) + K4*(OH**4) + K5*(df['HCO3']))\n",
    "#f_FeOH4 = K4*(OH**4)/(1 + K1*OH + K2*(OH**2) + K3*(OH**3) + K4*(OH**4) + K5*(df['HCO3']))\n",
    "#f_FeHCO3 = K5*(df['HCO3'])/(1 + K1*OH + K2*(OH**2) + K3*(OH**3) + K4*(OH**4) + K5*(df['HCO3']))\n",
    "\n"
   ]
  },
  {
   "cell_type": "code",
   "execution_count": 36,
   "metadata": {},
   "outputs": [],
   "source": [
    "# plotting\n",
    "#plt.figure(figsize=(15,10))#\n",
    "\n",
    "# x vs y\n",
    "#plt.plot(df.year, f_Fe, color='black', label = 'Fe 2+')\n",
    "#plt.plot(df.year, f_FeOH, color='red', label = 'FeOH + ')\n",
    "#plt.plot(df.year, f_FeOH2, color='blue', label = 'Fe(OH)2 ')\n",
    "#plt.plot(df.year, f_FeOH3, color='yellow', label = 'Fe(OH3) +')\n",
    "#plt.plot(df.year, f_FeOH4, color='green', label = 'Fe(OH4) 2+')\n",
    "#plt.plot(df.year, f_FeHCO3, color='purple', label = 'FeHCO3 +')\n",
    "\n",
    "\n",
    "# change for the axis direction\n",
    "#ax = plt.gca()\n",
    "#ax.xaxis.set_ticks_position('top')  \n",
    "#ax.invert_yaxis()  \n",
    "\n",
    "# legend, labels, fontsize, title\n",
    "#plt.legend(prop={'size':15})\n",
    "#plt.xlabel('year', fontsize=15)\n",
    "#plt.ylabel('fraction', fontsize=15)\n",
    "#plt.xticks(fontsize=15)\n",
    "#plt.yticks(fontsize=15)\n",
    "#plt.title('fraction vs year',  fontsize=15)\n",
    "\n",
    "# range of axis\n",
    "#plt.ylim(14, 0)\n",
    "#plt.xlim(0, 14)\n",
    "\n",
    "# if we need to use log scale!!!!!!!\n",
    "#plt.xscale('log')\n",
    "\n",
    "#plt.show() "
   ]
  },
  {
   "cell_type": "markdown",
   "metadata": {},
   "source": [
    "## Cu(II) complexation speciation"
   ]
  },
  {
   "cell_type": "code",
   "execution_count": 37,
   "metadata": {},
   "outputs": [],
   "source": [
    "# with OH\n",
    "K1 = 10**(6.5)\n",
    "K2 = 10**(11.8) \n",
    "K3 = 10**(14.5)\n",
    "K4 = 10**(15.6)\n",
    "\n",
    "# with CO3\n",
    "K5 = 10**(6.77)\n",
    "K6 = 10**(1.8)\n",
    "K7 = 10**(10.2)\n",
    "\n",
    "\n",
    "# OH\n",
    "f_Cu = 1/(1 + K1*OH + K2*(OH**2) + K3*(OH**3) + K4*(OH**4) + K5*(df['CO3']) + K6*(df['HCO3']) + K7*((df['CO3'])**2))*100\n",
    "f_CuOH = (K1*OH)/(1 + K1*OH + K2*(OH**2) + K3*(OH**3) + K4*(OH**4) + K5*(df['CO3']) + K6*(df['HCO3']) + K7*((df['CO3'])**2))*100\n",
    "f_CuOH2 = K2*(OH**2)/(1 + K1*OH + K2*(OH**2) + K3*(OH**3) + K4*(OH**4) + K5*(df['CO3']) + K6*(df['HCO3']) + K7*((df['CO3'])**2))*100\n",
    "f_CuOH3 = K3*(OH**3)/(1 + K1*OH + K2*(OH**2) + K3*(OH**3) + K4*(OH**4) + K5*(df['CO3']) + K6*(df['HCO3']) + K7*((df['CO3'])**2))*100\n",
    "f_CuOH4 = K4*(OH**4)/(1 + K1*OH + K2*(OH**2) + K3*(OH**3) + K4*(OH**4) + K5*(df['CO3']) + K6*(df['HCO3']) + K7*((df['CO3'])**2))*100\n",
    "\n",
    "# CO3\n",
    "f_CuCO3 =  K5*(df['CO3'])/(1 + K1*OH + K2*(OH**2) + K3*(OH**3) + K4*(OH**4) + K5*(df['CO3']) + K6*(df['HCO3']) + K7*((df['CO3'])**2))*100\n",
    "f_CuHCO3 =  K6*(df['HCO3'])/(1 + K1*OH + K2*(OH**2) + K3*(OH**3) + K4*(OH**4) + K5*(df['CO3']) + K6*(df['HCO3']) + K7*((df['CO3'])**2))*100\n",
    "f_CuCO3_2 = K7*((df['CO3'])**2)/(1 + K1*OH + K2*(OH**2) + K3*(OH**3) + K4*(OH**4) + K5*(df['CO3']) + K6*(df['HCO3']) + K7*((df['CO3'])**2))*100\n",
    "\n"
   ]
  },
  {
   "cell_type": "code",
   "execution_count": 38,
   "metadata": {},
   "outputs": [
    {
     "name": "stdout",
     "output_type": "stream",
     "text": [
      "0      0.284533\n",
      "1      0.285353\n",
      "2      0.286198\n",
      "3      0.287068\n",
      "4      0.287963\n",
      "         ...   \n",
      "237    1.180691\n",
      "238    1.187412\n",
      "239    1.194157\n",
      "240    1.200926\n",
      "241    1.207718\n",
      "Length: 242, dtype: float64\n"
     ]
    }
   ],
   "source": [
    "print(f_Cu)"
   ]
  },
  {
   "cell_type": "code",
   "execution_count": 79,
   "metadata": {},
   "outputs": [
    {
     "data": {
      "image/png": "[encoded data removed]",
      "text/plain": [
       "<Figure size 1080x720 with 1 Axes>"
      ]
     },
     "metadata": {
      "needs_background": "light"
     },
     "output_type": "display_data"
    }
   ],
   "source": [
    "# plotting\n",
    "plt.figure(figsize=(15,10))\n",
    "\n",
    "# x vs y\n",
    "plt.plot(df.year[60:], f_Cu[60:], color='black', label = 'Cu 2+')\n",
    "plt.plot(df.year[60:], f_CuOH[60:], color='red', label = 'CuOH + ')\n",
    "plt.plot(df.year[60:], f_CuOH2[60:], color='blue', label = 'Cu(OH)2 ')\n",
    "plt.plot(df.year[60:], f_CuOH3[60:], color='yellow', label = 'Cu(OH3) +')\n",
    "plt.plot(df.year[60:], f_CuOH4[60:], color='green', label = 'Cu(OH4) 2+')\n",
    "\n",
    "plt.plot(df.year[60:], f_CuCO3[60:], color='purple', label = 'CuCO3')\n",
    "plt.plot(df.year[60:], f_CuHCO3[60:], color='cyan', label = 'CuHCO3 +')\n",
    "plt.plot(df.year[60:], f_CuCO3_2[60:], color='orange', label = 'Cu(CO3)2 2-')\n",
    "\n",
    "\n",
    "\n",
    "# change for the axis direction\n",
    "#ax = plt.gca()\n",
    "#ax.xaxis.set_ticks_position('top')  \n",
    "#ax.invert_yaxis()  \n",
    "\n",
    "# legend, labels, fontsize, title\n",
    "plt.legend(prop={'size':15})\n",
    "plt.xlabel('Year', fontsize=15)\n",
    "plt.ylabel('Fraction(unit:%)', fontsize=15)\n",
    "plt.xticks(fontsize=15)\n",
    "plt.yticks(fontsize=15)\n",
    "plt.title('fraction vs year',  fontsize=15)\n",
    "\n",
    "#dim=np.arange(2019,2200,5)\n",
    "plt.xlim(2020,2200)\n",
    "\n",
    "\n",
    "# range of axis\n",
    "#plt.ylim(14, 0)\n",
    "#plt.xlim(0, 14)\n",
    "\n",
    "# if we need to use log scale!!!!!!!\n",
    "#plt.xscale('log')\n",
    "\n",
    "plt.show() "
   ]
  },
  {
   "cell_type": "code",
   "execution_count": 40,
   "metadata": {},
   "outputs": [],
   "source": [
    "df['fraction of Cu 2+'] = f_Cu\n",
    "df['fraction of CuOH +'] = f_CuOH\n",
    "df['fraction of CuOH2'] = f_CuOH2\n",
    "df['fraction of CuOH3 -'] = f_CuOH3\n",
    "df['fraction of CuOH4 2-'] = f_CuOH4\n",
    "df['fraction of CuCO3'] = f_CuCO3\n",
    "df['fraction of CuHCO3 +'] = f_CuHCO3\n",
    "df['fraction of Cu(CO3)2 2-'] = f_CuCO3_2\n"
   ]
  },
  {
   "cell_type": "code",
   "execution_count": 42,
   "metadata": {},
   "outputs": [
    {
     "name": "stdout",
     "output_type": "stream",
     "text": [
      "In the next 180 years, the fraction of Cu2+ would increace by a factor of 3.19\n",
      "In the next 180 years, the fraction of CuOH+ would increace by 4.94 %\n",
      "In the next 180 years, the fraction of CuOH2 would increace by -65.51 %\n",
      "In the next 180 years, the fraction of CuOH3- would increace by -88.67 %\n",
      "In the next 180 years, the fraction of CuOH4 2- would increace by -96.27 %\n",
      "In the next 180 years, the fraction of CuCO3 would increace by 7.35 %\n",
      "In the next 180 years, the fraction of CuHCO3 would increace by 226.65 %\n",
      "In the next 180 years, the fraction of Cu(CO3)2 would increace by -63.91 %\n"
     ]
    }
   ],
   "source": [
    "# change fraction\n",
    "diff_frac_Cu = (df['fraction of Cu 2+'] .iloc[-1]-df['fraction of Cu 2+'].iloc[60])/df['fraction of Cu 2+'].iloc[60]\n",
    "diff_frac_CuOH = (df['fraction of CuOH +'] .iloc[-1]-df['fraction of CuOH +'].iloc[60])/df['fraction of CuOH +'].iloc[60]\n",
    "diff_frac_CuOH2 =  (df['fraction of CuOH2'] .iloc[-1]-df['fraction of CuOH2'].iloc[60])/df['fraction of CuOH2'].iloc[60]\n",
    "diff_frac_CuOH3 =  (df['fraction of CuOH3 -'] .iloc[-1]-df['fraction of CuOH3 -'].iloc[60])/df['fraction of CuOH3 -'].iloc[60]\n",
    "diff_frac_CuOH4 =  (df['fraction of CuOH4 2-'] .iloc[-1]-df['fraction of CuOH4 2-'].iloc[60])/df['fraction of CuOH4 2-'].iloc[60]\n",
    "diff_frac_CuCO3 =  (df['fraction of CuCO3'] .iloc[-1]-df['fraction of CuCO3'].iloc[60])/df['fraction of CuCO3'].iloc[60]\n",
    "diff_frac_CuHCO3 =  (df['fraction of CuHCO3 +'] .iloc[-1]-df['fraction of CuHCO3 +'].iloc[60])/df['fraction of CuHCO3 +'].iloc[60]\n",
    "diff_frac_CuCO3_2=  (df['fraction of Cu(CO3)2 2-'] .iloc[-1]-df['fraction of Cu(CO3)2 2-'].iloc[60])/df['fraction of Cu(CO3)2 2-'].iloc[60]\n",
    "\n",
    "\n",
    "\n",
    "print('In the next 180 years, the fraction of Cu2+ would increace by a factor of', np.round(diff_frac_Cu+1,2))\n",
    "print('In the next 180 years, the fraction of CuOH+ would increace by', np.round(diff_frac_CuOH*100,2), '%')\n",
    "print('In the next 180 years, the fraction of CuOH2 would increace by', np.round(diff_frac_CuOH2*100,2), '%')\n",
    "print('In the next 180 years, the fraction of CuOH3- would increace by', np.round(diff_frac_CuOH3*100,2), '%')\n",
    "print('In the next 180 years, the fraction of CuOH4 2- would increace by', np.round(diff_frac_CuOH4*100,2), '%')\n",
    "print('In the next 180 years, the fraction of CuCO3 would increace by', np.round(diff_frac_CuCO3*100,2), '%')\n",
    "print('In the next 180 years, the fraction of CuHCO3 would increace by', np.round(diff_frac_CuHCO3*100,2), '%')\n",
    "print('In the next 180 years, the fraction of Cu(CO3)2 would increace by', np.round(diff_frac_CuCO3_2*100,2), '%')\n",
    "\n"
   ]
  },
  {
   "cell_type": "markdown",
   "metadata": {},
   "source": [
    "## save out dataframe"
   ]
  },
  {
   "cell_type": "code",
   "execution_count": 43,
   "metadata": {},
   "outputs": [],
   "source": [
    "result = df \n",
    "result.to_csv(\"output.csv\")"
   ]
  },
  {
   "cell_type": "code",
   "execution_count": 44,
   "metadata": {},
   "outputs": [
    {
     "data": {
      "text/plain": [
       "Pco2                       4.100971e+02\n",
       "PH                         8.539296e+00\n",
       "year                       2.019000e+03\n",
       "H+                         2.888712e-09\n",
       "OH-                        3.461751e-06\n",
       "H2CO3                      1.253350e-05\n",
       "HCO3                       2.174544e-03\n",
       "CO3                        3.772802e-05\n",
       "PE                         1.207126e+01\n",
       "fraction of Fe3+           1.511149e-11\n",
       "fraction of FeOH 2+        3.377559e-05\n",
       "fraction of FeOH2 +        4.548820e+01\n",
       "fraction of FeOH4 -        5.451177e+01\n",
       "fraction of Cu 2+          3.782477e-01\n",
       "fraction of CuOH +         4.140684e+00\n",
       "fraction of CuOH2          2.860012e+00\n",
       "fraction of CuOH3 -        4.962079e-03\n",
       "fraction of CuOH4 2-       2.162516e-07\n",
       "fraction of CuCO3          8.403115e+01\n",
       "fraction of CuHCO3 +       5.189727e-02\n",
       "fraction of Cu(CO3)2 2-    8.533049e+00\n",
       "Name: 60, dtype: float64"
      ]
     },
     "execution_count": 44,
     "metadata": {},
     "output_type": "execute_result"
    }
   ],
   "source": [
    "df.iloc[60]"
   ]
  },
  {
   "cell_type": "code",
   "execution_count": 45,
   "metadata": {},
   "outputs": [
    {
     "data": {
      "text/plain": [
       "Pco2                       1.247808e+03\n",
       "PH                         8.056035e+00\n",
       "year                       2.200000e+03\n",
       "H+                         8.789522e-09\n",
       "OH-                        1.137718e-06\n",
       "H2CO3                      3.901423e-05\n",
       "HCO3                       2.224630e-03\n",
       "CO3                        1.268506e-05\n",
       "PE                         1.255452e+01\n",
       "fraction of Fe3+           2.723117e-10\n",
       "fraction of FeOH 2+        2.000328e-04\n",
       "fraction of FeOH2 +        8.853925e+01\n",
       "fraction of FeOH4 -        1.146055e+01\n",
       "fraction of Cu 2+          1.207718e+00\n",
       "fraction of CuOH +         4.345107e+00\n",
       "fraction of CuOH2          9.863594e-01\n",
       "fraction of CuOH3 -        5.624319e-04\n",
       "fraction of CuOH4 2-       8.055726e-09\n",
       "fraction of CuCO3          9.021073e+01\n",
       "fraction of CuHCO3 +       1.695210e-01\n",
       "fraction of Cu(CO3)2 2-    3.080000e+00\n",
       "Name: 241, dtype: float64"
      ]
     },
     "execution_count": 45,
     "metadata": {},
     "output_type": "execute_result"
    }
   ],
   "source": [
    "df.iloc[-1]"
   ]
  },
  {
   "cell_type": "code",
   "execution_count": 51,
   "metadata": {},
   "outputs": [],
   "source": [
    "data_new = pd.DataFrame(df.iloc[60])\n",
    "data_new['2200'] = df.iloc[-1]\n"
   ]
  },
  {
   "cell_type": "code",
   "execution_count": 52,
   "metadata": {},
   "outputs": [],
   "source": [
    "data_new.columns=['2019','2200']\n",
    "data_new = data_new.drop(['year'])"
   ]
  },
  {
   "cell_type": "code",
   "execution_count": 53,
   "metadata": {},
   "outputs": [
    {
     "data": {
      "text/html": [
       "<div>\n",
       "<style scoped>\n",
       "    .dataframe tbody tr th:only-of-type {\n",
       "        vertical-align: middle;\n",
       "    }\n",
       "\n",
       "    .dataframe tbody tr th {\n",
       "        vertical-align: top;\n",
       "    }\n",
       "\n",
       "    .dataframe thead th {\n",
       "        text-align: right;\n",
       "    }\n",
       "</style>\n",
       "<table border=\"1\" class=\"dataframe\">\n",
       "  <thead>\n",
       "    <tr style=\"text-align: right;\">\n",
       "      <th></th>\n",
       "      <th>2019</th>\n",
       "      <th>2200</th>\n",
       "    </tr>\n",
       "  </thead>\n",
       "  <tbody>\n",
       "    <tr>\n",
       "      <th>Pco2</th>\n",
       "      <td>4.100971e+02</td>\n",
       "      <td>1.247808e+03</td>\n",
       "    </tr>\n",
       "    <tr>\n",
       "      <th>PH</th>\n",
       "      <td>8.539296e+00</td>\n",
       "      <td>8.056035e+00</td>\n",
       "    </tr>\n",
       "    <tr>\n",
       "      <th>H+</th>\n",
       "      <td>2.888712e-09</td>\n",
       "      <td>8.789522e-09</td>\n",
       "    </tr>\n",
       "    <tr>\n",
       "      <th>OH-</th>\n",
       "      <td>3.461751e-06</td>\n",
       "      <td>1.137718e-06</td>\n",
       "    </tr>\n",
       "    <tr>\n",
       "      <th>H2CO3</th>\n",
       "      <td>1.253350e-05</td>\n",
       "      <td>3.901423e-05</td>\n",
       "    </tr>\n",
       "    <tr>\n",
       "      <th>HCO3</th>\n",
       "      <td>2.174544e-03</td>\n",
       "      <td>2.224630e-03</td>\n",
       "    </tr>\n",
       "    <tr>\n",
       "      <th>CO3</th>\n",
       "      <td>3.772802e-05</td>\n",
       "      <td>1.268506e-05</td>\n",
       "    </tr>\n",
       "    <tr>\n",
       "      <th>PE</th>\n",
       "      <td>1.207126e+01</td>\n",
       "      <td>1.255452e+01</td>\n",
       "    </tr>\n",
       "    <tr>\n",
       "      <th>fraction of Fe3+</th>\n",
       "      <td>1.511149e-11</td>\n",
       "      <td>2.723117e-10</td>\n",
       "    </tr>\n",
       "    <tr>\n",
       "      <th>fraction of FeOH 2+</th>\n",
       "      <td>3.377559e-05</td>\n",
       "      <td>2.000328e-04</td>\n",
       "    </tr>\n",
       "    <tr>\n",
       "      <th>fraction of FeOH2 +</th>\n",
       "      <td>4.548820e+01</td>\n",
       "      <td>8.853925e+01</td>\n",
       "    </tr>\n",
       "    <tr>\n",
       "      <th>fraction of FeOH4 -</th>\n",
       "      <td>5.451177e+01</td>\n",
       "      <td>1.146055e+01</td>\n",
       "    </tr>\n",
       "    <tr>\n",
       "      <th>fraction of Cu 2+</th>\n",
       "      <td>3.782477e-01</td>\n",
       "      <td>1.207718e+00</td>\n",
       "    </tr>\n",
       "    <tr>\n",
       "      <th>fraction of CuOH +</th>\n",
       "      <td>4.140684e+00</td>\n",
       "      <td>4.345107e+00</td>\n",
       "    </tr>\n",
       "    <tr>\n",
       "      <th>fraction of CuOH2</th>\n",
       "      <td>2.860012e+00</td>\n",
       "      <td>9.863594e-01</td>\n",
       "    </tr>\n",
       "    <tr>\n",
       "      <th>fraction of CuOH3 -</th>\n",
       "      <td>4.962079e-03</td>\n",
       "      <td>5.624319e-04</td>\n",
       "    </tr>\n",
       "    <tr>\n",
       "      <th>fraction of CuOH4 2-</th>\n",
       "      <td>2.162516e-07</td>\n",
       "      <td>8.055726e-09</td>\n",
       "    </tr>\n",
       "    <tr>\n",
       "      <th>fraction of CuCO3</th>\n",
       "      <td>8.403115e+01</td>\n",
       "      <td>9.021073e+01</td>\n",
       "    </tr>\n",
       "    <tr>\n",
       "      <th>fraction of CuHCO3 +</th>\n",
       "      <td>5.189727e-02</td>\n",
       "      <td>1.695210e-01</td>\n",
       "    </tr>\n",
       "    <tr>\n",
       "      <th>fraction of Cu(CO3)2 2-</th>\n",
       "      <td>8.533049e+00</td>\n",
       "      <td>3.080000e+00</td>\n",
       "    </tr>\n",
       "  </tbody>\n",
       "</table>\n",
       "</div>"
      ],
      "text/plain": [
       "                                 2019          2200\n",
       "Pco2                     4.100971e+02  1.247808e+03\n",
       "PH                       8.539296e+00  8.056035e+00\n",
       "H+                       2.888712e-09  8.789522e-09\n",
       "OH-                      3.461751e-06  1.137718e-06\n",
       "H2CO3                    1.253350e-05  3.901423e-05\n",
       "HCO3                     2.174544e-03  2.224630e-03\n",
       "CO3                      3.772802e-05  1.268506e-05\n",
       "PE                       1.207126e+01  1.255452e+01\n",
       "fraction of Fe3+         1.511149e-11  2.723117e-10\n",
       "fraction of FeOH 2+      3.377559e-05  2.000328e-04\n",
       "fraction of FeOH2 +      4.548820e+01  8.853925e+01\n",
       "fraction of FeOH4 -      5.451177e+01  1.146055e+01\n",
       "fraction of Cu 2+        3.782477e-01  1.207718e+00\n",
       "fraction of CuOH +       4.140684e+00  4.345107e+00\n",
       "fraction of CuOH2        2.860012e+00  9.863594e-01\n",
       "fraction of CuOH3 -      4.962079e-03  5.624319e-04\n",
       "fraction of CuOH4 2-     2.162516e-07  8.055726e-09\n",
       "fraction of CuCO3        8.403115e+01  9.021073e+01\n",
       "fraction of CuHCO3 +     5.189727e-02  1.695210e-01\n",
       "fraction of Cu(CO3)2 2-  8.533049e+00  3.080000e+00"
      ]
     },
     "execution_count": 53,
     "metadata": {},
     "output_type": "execute_result"
    }
   ],
   "source": [
    "data_new"
   ]
  },
  {
   "cell_type": "code",
   "execution_count": 54,
   "metadata": {},
   "outputs": [
    {
     "data": {
      "text/html": [
       "<div>\n",
       "<style scoped>\n",
       "    .dataframe tbody tr th:only-of-type {\n",
       "        vertical-align: middle;\n",
       "    }\n",
       "\n",
       "    .dataframe tbody tr th {\n",
       "        vertical-align: top;\n",
       "    }\n",
       "\n",
       "    .dataframe thead th {\n",
       "        text-align: right;\n",
       "    }\n",
       "</style>\n",
       "<table border=\"1\" class=\"dataframe\">\n",
       "  <thead>\n",
       "    <tr style=\"text-align: right;\">\n",
       "      <th></th>\n",
       "      <th>Pco2</th>\n",
       "      <th>PH</th>\n",
       "      <th>H+</th>\n",
       "      <th>OH-</th>\n",
       "      <th>H2CO3</th>\n",
       "      <th>HCO3</th>\n",
       "      <th>CO3</th>\n",
       "      <th>PE</th>\n",
       "      <th>fraction of Fe3+</th>\n",
       "      <th>fraction of FeOH 2+</th>\n",
       "      <th>fraction of FeOH2 +</th>\n",
       "      <th>fraction of FeOH4 -</th>\n",
       "      <th>fraction of Cu 2+</th>\n",
       "      <th>fraction of CuOH +</th>\n",
       "      <th>fraction of CuOH2</th>\n",
       "      <th>fraction of CuOH3 -</th>\n",
       "      <th>fraction of CuOH4 2-</th>\n",
       "      <th>fraction of CuCO3</th>\n",
       "      <th>fraction of CuHCO3 +</th>\n",
       "      <th>fraction of Cu(CO3)2 2-</th>\n",
       "    </tr>\n",
       "  </thead>\n",
       "  <tbody>\n",
       "    <tr>\n",
       "      <th>2019</th>\n",
       "      <td>410.097150</td>\n",
       "      <td>8.539296</td>\n",
       "      <td>2.888712e-09</td>\n",
       "      <td>0.000003</td>\n",
       "      <td>0.000013</td>\n",
       "      <td>0.002175</td>\n",
       "      <td>0.000038</td>\n",
       "      <td>12.071259</td>\n",
       "      <td>1.511149e-11</td>\n",
       "      <td>0.000034</td>\n",
       "      <td>45.488198</td>\n",
       "      <td>54.511768</td>\n",
       "      <td>0.378248</td>\n",
       "      <td>4.140684</td>\n",
       "      <td>2.860012</td>\n",
       "      <td>0.004962</td>\n",
       "      <td>2.162516e-07</td>\n",
       "      <td>84.031147</td>\n",
       "      <td>0.051897</td>\n",
       "      <td>8.533049</td>\n",
       "    </tr>\n",
       "    <tr>\n",
       "      <th>2200</th>\n",
       "      <td>1247.808021</td>\n",
       "      <td>8.056035</td>\n",
       "      <td>8.789522e-09</td>\n",
       "      <td>0.000001</td>\n",
       "      <td>0.000039</td>\n",
       "      <td>0.002225</td>\n",
       "      <td>0.000013</td>\n",
       "      <td>12.554520</td>\n",
       "      <td>2.723117e-10</td>\n",
       "      <td>0.000200</td>\n",
       "      <td>88.539253</td>\n",
       "      <td>11.460547</td>\n",
       "      <td>1.207718</td>\n",
       "      <td>4.345107</td>\n",
       "      <td>0.986359</td>\n",
       "      <td>0.000562</td>\n",
       "      <td>8.055726e-09</td>\n",
       "      <td>90.210732</td>\n",
       "      <td>0.169521</td>\n",
       "      <td>3.080000</td>\n",
       "    </tr>\n",
       "  </tbody>\n",
       "</table>\n",
       "</div>"
      ],
      "text/plain": [
       "             Pco2        PH            H+       OH-     H2CO3      HCO3  \\\n",
       "2019   410.097150  8.539296  2.888712e-09  0.000003  0.000013  0.002175   \n",
       "2200  1247.808021  8.056035  8.789522e-09  0.000001  0.000039  0.002225   \n",
       "\n",
       "           CO3         PE  fraction of Fe3+  fraction of FeOH 2+  \\\n",
       "2019  0.000038  12.071259      1.511149e-11             0.000034   \n",
       "2200  0.000013  12.554520      2.723117e-10             0.000200   \n",
       "\n",
       "      fraction of FeOH2 +  fraction of FeOH4 -  fraction of Cu 2+  \\\n",
       "2019            45.488198            54.511768           0.378248   \n",
       "2200            88.539253            11.460547           1.207718   \n",
       "\n",
       "      fraction of CuOH +  fraction of CuOH2  fraction of CuOH3 -  \\\n",
       "2019            4.140684           2.860012             0.004962   \n",
       "2200            4.345107           0.986359             0.000562   \n",
       "\n",
       "      fraction of CuOH4 2-  fraction of CuCO3  fraction of CuHCO3 +  \\\n",
       "2019          2.162516e-07          84.031147              0.051897   \n",
       "2200          8.055726e-09          90.210732              0.169521   \n",
       "\n",
       "      fraction of Cu(CO3)2 2-  \n",
       "2019                 8.533049  \n",
       "2200                 3.080000  "
      ]
     },
     "execution_count": 54,
     "metadata": {},
     "output_type": "execute_result"
    }
   ],
   "source": [
    "data_new_transpose = pd.DataFrame.transpose(data_new)\n",
    "data_new_transpose"
   ]
  },
  {
   "cell_type": "code",
   "execution_count": 59,
   "metadata": {},
   "outputs": [],
   "source": [
    "data_new.to_csv(\"prediction.csv\")"
   ]
  },
  {
   "cell_type": "code",
   "execution_count": null,
   "metadata": {},
   "outputs": [],
   "source": []
  }
 ],
 "metadata": {
  "kernelspec": {
   "display_name": "Python 3",
   "language": "python",
   "name": "python3"
  },
  "language_info": {
   "codemirror_mode": {
    "name": "ipython",
    "version": 3
   },
   "file_extension": ".py",
   "mimetype": "text/x-python",
   "name": "python",
   "nbconvert_exporter": "python",
   "pygments_lexer": "ipython3",
   "version": "3.7.9"
  }
 },
 "nbformat": 4,
 "nbformat_minor": 4
}
